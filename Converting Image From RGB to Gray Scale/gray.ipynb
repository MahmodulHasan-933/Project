{
 "cells": [
  {
   "cell_type": "code",
   "execution_count": null,
   "id": "5e0de1ec",
   "metadata": {},
   "outputs": [],
   "source": [
    "import os,cv2\n",
    "path = r'C:\\Users\\me\\Desktop\\folder' # Source Folder\n",
    "dstpath = r'C:\\Users\\me\\Desktop\\desfolder' # Destination Folder\n",
    "\n",
    "\n",
    "\n",
    "try:\n",
    "    makedirs(dstpath)\n",
    "except:\n",
    "    print (\"Directory already exist, images will be written in asme folder\")\n",
    "\n",
    "# Folder won't used\n",
    "files = os.listdir(path)\n",
    "\n",
    "for image in files:\n",
    "    img = cv2.imread(os.path.join(path,image))\n",
    "    gray = cv2.cvtColor(img,cv2.COLOR_BGR2GRAY)\n",
    "    cv2.imwrite(os.path.join(dstpath,image),gray)"
   ]
  }
 ],
 "metadata": {
  "kernelspec": {
   "display_name": "Python 3 (ipykernel)",
   "language": "python",
   "name": "python3"
  },
  "language_info": {
   "codemirror_mode": {
    "name": "ipython",
    "version": 3
   },
   "file_extension": ".py",
   "mimetype": "text/x-python",
   "name": "python",
   "nbconvert_exporter": "python",
   "pygments_lexer": "ipython3",
   "version": "3.9.13"
  }
 },
 "nbformat": 4,
 "nbformat_minor": 5
}
